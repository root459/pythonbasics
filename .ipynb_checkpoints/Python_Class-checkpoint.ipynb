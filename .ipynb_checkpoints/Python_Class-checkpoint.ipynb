{
 "cells": [
  {
   "cell_type": "raw",
   "id": "fe4e842b-6487-47b6-b77f-cb171f021b9e",
   "metadata": {},
   "source": [
    "oops=>general to specific(for ex hacking with windows vs kali linux)\n",
    "every object belongs to a class and everthing is a object\n",
    "class is a blueprint how object will behave it has data/property and functions/behaviour\n",
    "class name=>PascalCase\n",
    "method name=>snake_case\n",
    "Object literals=\"create objects in a concise and intuitive way\" generally used for inbuilt datatypes\n",
    "Function(NOT WRITTEN IN A CLASS AND CALLING IS DIFFERENT) vs METHODS(SAME AS FUNCTION WRITTEN IN A CLASS CALLED USING OBJECT)\n",
    "variable=>objects"
   ]
  },
  {
   "cell_type": "code",
   "execution_count": null,
   "id": "357957ce-01a1-4d6b-9a1c-d3e2de53c48c",
   "metadata": {},
   "outputs": [],
   "source": [
    "#1) variables are always created in this only, __init__=>constructor\n",
    "#2)special/dunder/magic methods\n",
    "#3)magic methods=> called without the object at the specific conditions\n",
    "# 4)like constructor are magic methods automatically called\n",
    "#5)why constructor??when we not want to give control to user and want to start some process before \n",
    "#starting the application we use constructor\n",
    "#for ex- if god is creater of class world and we are objects of it then in constructor there will be death.\n",
    "#6) the object we currently working is self. when we want to run application that object will\n",
    "#take place of self.and self points to that object\n",
    "#7)when we call the method with object by default  it take input the object as parameter\n",
    "#that will be received by the self. so in every method(self) this is written because only object can acess the data\n",
    "#of class so when method need to access variable it can be acessed by the object in the form of self only.\n",
    "# so we have to write self in the methods\n",
    "# 8) In Python, the self keyword allows a method in a class to access other \n",
    "# methods and attributes within the same class. Without self, methods cannot directly interact with each other.\n",
    "\n",
    "\n",
    "class Atm:\n",
    "    def __init__(self):\n",
    "     self.pin=\"\"\n",
    "     self.balance=0\n",
    "     self.menu()\n",
    "    def menu(self):\n",
    "        user_input=input(\"\"\"\n",
    "        HELLO HOW WOULD YOU LIKE TO PROCEED?\n",
    "        1.ENTER 1 TO CREATE PIN \n",
    "        2.ENTER 2 TO DEPOSIT \n",
    "        3.ENTER 3 TO WITHDRAW\n",
    "        4.ENTER 4 TO CHECK BALANCE\n",
    "        5.ENTER 5 TO EXIT\n",
    "        \"\"\")\n",
    "        if user_input==\"1\":\n",
    "            self.create_pin()\n",
    "        elif user_input==\"2\":\n",
    "            self.withdraw()\n",
    "        elif user_input==\"3\":\n",
    "            self.deposit()\n",
    "        elif user_input==\"4\":\n",
    "            self.balance()\n",
    "        else:\n",
    "            print(\"bye\")\n",
    "    def create_pin(self):\n",
    "        self.pin=input(\"enter your pin\")\n",
    "        print(\"Pin set success\")\n",
    "    def deposit(self):\n",
    "        temp=input(\"enter yout pin\")\n",
    "        if temp==self.pin:\n",
    "            amount=int(input(\"enter the amount\"))\n",
    "            self.balance=self.balance+amount\n",
    "            print(\"Deposit successfully\")\n",
    "        else:\n",
    "            print(\"invalid pin\")\n",
    "    def withdraw(self):\n",
    "        temp=input(\"enter yout pin\")\n",
    "        if temp==self.pin:\n",
    "            amount=int(input(\"enter the amount to be withdraw\"))\n",
    "            if self.balance>=amount:\n",
    "                self.balance=self.balance-amount\n",
    "                print(\"Operation Succesful\")\n",
    "            else:\n",
    "                print(\"insufficient funds\")\n",
    "        else:\n",
    "            print(\"invalid pin\")\n",
    "    def balance(self):\n",
    "        temp=input(\"enter the pin\")\n",
    "        if temp==self.pin:\n",
    "            print(\"The total balance is\"+self.balance)\n",
    "        else:\n",
    "            print(\"invalid pin\")\n",
    "\n",
    "a=Atm()    \n",
    "                \n",
    "                \n",
    "        \n",
    "        \n",
    "        \n",
    "        \n",
    "        \n",
    "     \n",
    "     \n",
    "     \n",
    "    \n",
    "    "
   ]
  },
  {
   "cell_type": "code",
   "execution_count": 1,
   "id": "20ead1ed-2891-4a11-a433-71318ffed4cb",
   "metadata": {},
   "outputs": [
    {
     "name": "stdout",
     "output_type": "stream",
     "text": [
      "hello\n",
      "the quotient is 6/12\n",
      "the product is 8/9\n",
      "the sum is 18/9\n",
      "the difference is 6/9\n"
     ]
    }
   ],
   "source": [
    "#we will use a magic function __str__ this is used when we want to print the object this function is called , which \n",
    "#will help us to print the answer in the fraction form\n",
    "\n",
    "# operator overloading in Python is achieved through magic methods (also called dunder methods).\n",
    "class Example:\n",
    "    def __str__(self):\n",
    "        return \"hello\"\n",
    "x=Example()\n",
    "print(x)  #trying to print the object\n",
    "\n",
    "# now we will create a datatype in python using class \n",
    "\n",
    "class Fraction:\n",
    "    def __init__(self,n,d):\n",
    "        self.num=n\n",
    "        self.den=d\n",
    "    def __str__(self):\n",
    "        return \"{}/{}\".format(self.num,self.den)\n",
    "#x=Fraction(11,2)\n",
    "#print(x)\n",
    "#now we will perform operations on the fractions\n",
    "#other is the other object of same class\n",
    "    def __add__(self,other):#when user write print(a+b) this method automatically called\n",
    "        temp_num=self.num*other.den+self.den*other.num\n",
    "        temp_den=self.den*other.den\n",
    "        return \"{}/{}\".format(temp_num,temp_den)\n",
    "    def __sub__(self,other):\n",
    "        temp_num=self.num*other.den-self.den*other.num\n",
    "        temp_den=self.den*other.den\n",
    "        return \"{}/{}\".format(temp_num,temp_den)\n",
    "    def __mul__(self,other):\n",
    "        temp_num=self.num*other.num\n",
    "        temp_den=self.den*other.den\n",
    "        return \"{}/{}\".format(temp_num,temp_den)\n",
    "    def __truediv__(self,other):\n",
    "        temp_num=self.num*other.den\n",
    "        temp_den=self.den*other.num\n",
    "        return \"{}/{}\".format(temp_num,temp_den)\n",
    "        \n",
    "x=Fraction(2,3)\n",
    "y=Fraction(4,3)\n",
    "print(\"the quotient is {}\".format(x/y))\n",
    "print(\"the product is {}\".format(x*y))\n",
    "print(\"the sum is {}\".format(x+y))\n",
    "print(\"the difference is {}\".format(y-x))"
   ]
  },
  {
   "cell_type": "code",
   "execution_count": 1,
   "id": "0b14202d-b785-4403-9842-413ca6b3ed16",
   "metadata": {},
   "outputs": [
    {
     "name": "stdin",
     "output_type": "stream",
     "text": [
      "enter the pin 1234\n"
     ]
    },
    {
     "name": "stdout",
     "output_type": "stream",
     "text": [
      "1234\n"
     ]
    },
    {
     "name": "stdin",
     "output_type": "stream",
     "text": [
      "enter the pin 45\n"
     ]
    },
    {
     "data": {
      "text/plain": [
       "<__main__.A at 0x21578fd3190>"
      ]
     },
     "execution_count": 1,
     "metadata": {},
     "output_type": "execute_result"
    }
   ],
   "source": [
    "#instance variables=>variable in constructor and each object \n",
    "#has its own variables value\n",
    "\n",
    "#class variable =>defined outside constructor and each object has same \n",
    "#value for it.if modified affect all instances of class\n",
    "\n",
    "#ENCAPSULATION \n",
    "#a intance variable is made private by putting self.__pin (two underscore before var name)\n",
    "class A:\n",
    "    k=0#class variable\n",
    "    def __init__(self):\n",
    "        self.__pin=int(input(\"enter the pin\"))#private member\n",
    "        self._a=5#protected member\n",
    "A.k=10#class variable acessed like this\n",
    "a=A()#HERE CONSTURCTOR WILL BE CALLED,OBJECT BEING MADE \n",
    "#BUT CAN ACCESS PIN DIRECTLY WITHOUT METHOD BUT ONE INDIRECT WAY NOT RECOMMEND TO USE\n",
    "print(a._A__pin) #indirect way to acces\n",
    "#we can apply same to the method also to hide it by __method()\n",
    "#when we change our data member or method into this then python implicitly convert then into _CLASSNAME__MEMBERNAME \n",
    "# everywhere it is written so if we try to acess it by __member than that will not be accessed but error will also not \n",
    "# arise becasue new member will be created by that name.\n",
    "\n",
    "# SO THERE IS NOTING PRIVATE IN PYTHON//\n",
    "#never make your data directly accessible make it accessible by getter or setter methods \n",
    "#so that we can implement logic in that  it can set values abided by some rules.\n",
    "#this is encapsulation hide and \n",
    "A()#WILL NOT GIVE ERROR BUT NOW WE CANT THAT OBJECT USE IT LOST.SO WE GIVE REFERENCE TO IT \n",
    "# BY USING A VARIABLE CALLED REFERENCE VARIABLE \n",
    "# c=A()# HERE c IS REFERENCE VARIABLE"
   ]
  },
  {
   "cell_type": "code",
   "execution_count": 18,
   "id": "95bef7f8-ccd4-47e2-9ee1-9519f5d3c095",
   "metadata": {},
   "outputs": [
    {
     "name": "stdout",
     "output_type": "stream",
     "text": [
      "2291254342352\n",
      "2291254342352\n",
      "2291254342352\n"
     ]
    }
   ],
   "source": [
    " # Pass By Refernce \n",
    "class Customer:\n",
    "    def __init__(self,name):\n",
    "        self.name=name\n",
    "def greet(customer):#outside of the class Customer we are passing class object to outside function\n",
    "    print(id(customer))\n",
    "    customer.name=\"sk\"\n",
    "    print(id(customer))\n",
    "    \n",
    "cust=Customer(\"Nitish\")\n",
    "greet(cust)\n",
    "print(id(cust))\n",
    "#Aliasing \n",
    "# so in output all id are same even after changing the object data so we can say\n",
    "# objects are mutable in python like lists,dict and sets because address is same before and after change. "
   ]
  },
  {
   "cell_type": "code",
   "execution_count": 26,
   "id": "25281646-d586-4524-8491-d8f1a22ed1c2",
   "metadata": {},
   "outputs": [
    {
     "name": "stdout",
     "output_type": "stream",
     "text": [
      "2291254662656\n",
      "2291254307840\n",
      "[1, 2, [9, 6], 3, 5]\n",
      "[1, 2, [9, 6], 3]\n",
      "[1, 2, [9, 6], 3, 5]\n",
      "[2, [9, 6], 3]\n"
     ]
    }
   ],
   "source": [
    "#do sot pass original list or mutable type objects instead send the copy of the object for example \n",
    "def change(L):\n",
    "    print(id(L))\n",
    "    L.append(5)\n",
    "    L[2][0]=9\n",
    "    print(L)\n",
    "    return L\n",
    "L1=list()\n",
    "L1=[1,2,['a',6],3]\n",
    "print(id(L1))\n",
    "k=change(L1[:])#creates shallow copy \n",
    "print(L1)\n",
    "del L1[0]\n",
    "print(k)\n",
    "print(L1)\n",
    "# modifying the nested list within the shallow copy affects the nested list in the original list as \n",
    "# well because they both share references to the same nested list object. However, modifying elements\n",
    "# outside the nested list (like 1, 2, and 5) won't affect the original list.\n",
    "#so for this we use deepcopy syntax for both are=>\n",
    "# import copy\n",
    "# shallow_copy = copy.copy(original_object)\n",
    "# deep_copy = copy.deepcopy(original_object)\n",
    "#cannot put objects in sets because objects are mutable and sets contain only immutable \n"
   ]
  },
  {
   "cell_type": "code",
   "execution_count": 8,
   "id": "17cbac3b-9bf0-49c4-833b-5f8570013265",
   "metadata": {},
   "outputs": [
    {
     "name": "stdout",
     "output_type": "stream",
     "text": [
      "I am  Nitish 45\n",
      "I am  Nit 5\n",
      "I am  Niti 4\n"
     ]
    }
   ],
   "source": [
    "#collection of objects \n",
    "class Customer:\n",
    "    def __init__(self,name,age):\n",
    "        self.name=name\n",
    "        self.age=age \n",
    "    def intro(self):\n",
    "        print(\"I am \",self.name,self.age)\n",
    "c1=Customer(\"Nitish\",45)\n",
    "c2=Customer(\"Nit\",5)\n",
    "c3=Customer(\"Niti\",4)\n",
    "L=[c1,c2,c3]\n",
    "for i in L:\n",
    "    # print(i) dont know how to show the object\n",
    "    i.intro()\n",
    "# I am  Nitish 45\n",
    "# I am  Nit 5\n",
    "# I am  Niti 4"
   ]
  },
  {
   "cell_type": "code",
   "execution_count": 47,
   "id": "c7f3a239-0a34-498e-b106-432e2bd81047",
   "metadata": {},
   "outputs": [
    {
     "name": "stdout",
     "output_type": "stream",
     "text": [
      "the total no. of stuents are 3\n"
     ]
    }
   ],
   "source": [
    "# instance variable => different value for differnt object and created in the constructor \n",
    "# static or class variable =>same value for all objects and created outside the constructor\n",
    "# when we access class variable we dont write self we write the class name to acess it.\n",
    "class Student:\n",
    "    count=1\n",
    "    def __init__(self,name):\n",
    "        self.name=name\n",
    "        self.sno=Student.count\n",
    "        Student.count=Student.count+1\n",
    "    @staticmethod\n",
    "    def get():#this is static methods #static methods do not require self as argument\n",
    "        print(\"the total no. of students are\",Student.count)\n",
    "s1=Student(\"ram\")\n",
    "s2=Student(\"shyam\")\n",
    "s2.sno\n",
    "s1.sno\n",
    "s1.count\n",
    "Student.count#can be accessed without the object also\n",
    "#the methods in which we use only static variable no need of self there.        \n",
    "Student.get()#calling static methods "
   ]
  },
  {
   "cell_type": "code",
   "execution_count": null,
   "id": "5a24e5bc-a8ea-4440-9b09-7ca58702bac9",
   "metadata": {},
   "outputs": [],
   "source": [
    "# RELATIONSHIP BW CLASSES \n",
    "# 2 TYPES 1)AGGREGATION(Has-A)  Example Customer HAS-A address\n",
    "          # 2)INHERITANCE(IS-A) EXAMPLE CAR IS-A vehicle"
   ]
  },
  {
   "cell_type": "code",
   "execution_count": null,
   "id": "f1fbcedb",
   "metadata": {},
   "outputs": [],
   "source": [
    "# Example of aggregation\n",
    "# when one class is composed of one or more instances of another class,\n",
    "# but those instances can exist independently of the class.\n",
    "# In this example, a Library \"has-a\" collection of books. Books are independent entities that can be\n",
    "# added to or removed from the Library.\n",
    "class Book:\n",
    "    def __init__(self, title, author):\n",
    "        self.title = title\n",
    "        self.author = author\n",
    "\n",
    "class Library:\n",
    "    def __init__(self, name):\n",
    "        self.name = name\n",
    "        self.books = []  # List to hold Book objects\n",
    "\n",
    "    def add_book(self, book):\n",
    "        self.books.append(book)\n",
    "\n",
    "# Usage\n",
    "book1 = Book(\"Python Programming\", \"Guido van Rossum\")\n",
    "book2 = Book(\"Java for Beginners\", \"John Doe\")\n",
    "\n",
    "library = Library(\"City Library\")\n",
    "library.add_book(book1)\n",
    "library.add_book(book2)\n",
    "\n",
    "# Now the library has books\n",
    "for book in library.books:\n",
    "    print(f\"{book.title} by {book.author}\")\n"
   ]
  },
  {
   "cell_type": "code",
   "execution_count": 6,
   "id": "efe81f08-85e4-4324-a93d-874507f9ac1a",
   "metadata": {},
   "outputs": [
    {
     "name": "stdout",
     "output_type": "stream",
     "text": [
      "wb\n",
      "haryana\n"
     ]
    }
   ],
   "source": [
    "# example of aggregation \n",
    "class Customer:\n",
    "    def __init__(self,name,gender,address):\n",
    "        self.name=name\n",
    "        self.gender=gender\n",
    "        self.address=address\n",
    "    def edit_profile(self,new_name,new_city,new_pin,new_state):\n",
    "        self.name=new_name\n",
    "        self.address.change_address(new_city,new_pin,new_state)\n",
    "class Address:\n",
    "    def __init__(self,city,pincode,state):\n",
    "        self.city=city\n",
    "        self.pincode=pincode\n",
    "        self.state=state\n",
    "    def change_address(self,new_city,new_pin,new_state):\n",
    "        self.city=new_city\n",
    "        self.pin=new_pin\n",
    "        self.state=new_state\n",
    "add=Address(\"kolkata\",700156,\"wb\")\n",
    "cust=Customer(\"nitish\",\"MALE\",add)\n",
    "print(cust.address.state)\n",
    "cust.edit_profile(\"Ankit\",\"Gurgoan\",123456,\"haryana\")\n",
    "print(cust.address.state)\n",
    "# rule=>default arguments should come at last in function\n",
    "# this is called has-A relationship in which the Customer class make change in Adreess by the address class and this relationship is called \n",
    "# Aggregation"
   ]
  },
  {
   "cell_type": "code",
   "execution_count": 9,
   "id": "75f812d7-4ac7-4e1b-8702-801bf4627232",
   "metadata": {},
   "outputs": [
    {
     "name": "stdout",
     "output_type": "stream",
     "text": [
      "Enroll\n",
      "Login\n",
      "Register\n",
      "review\n"
     ]
    }
   ],
   "source": [
    "#Inheritance\n",
    "# 3 things inherited datamember ,member fn,constructor\n",
    "# cannot inherit the private members and methods of the Parent class.\n",
    "class User:\n",
    "    def login(self):\n",
    "        print(\"Login\")\n",
    "    def register(self):\n",
    "        print(\"Register\")\n",
    "class Student(User):#iheriting the User class \n",
    "    def enroll(self):\n",
    "        print(\"Enroll\")\n",
    "    def review(self):\n",
    "        print(\"review\")\n",
    "stu=Student()\n",
    "stu.enroll()\n",
    "stu.login()\n",
    "stu.register()\n",
    "stu.review()\n",
    "# all methods can only be accessed by the child class only."
   ]
  },
  {
   "cell_type": "code",
   "execution_count": 4,
   "id": "b8b3f23a-6efb-4ccb-bab3-650b3aef8b76",
   "metadata": {},
   "outputs": [
    {
     "name": "stdout",
     "output_type": "stream",
     "text": [
      "inside phone constructor\n"
     ]
    }
   ],
   "source": [
    "# examples of the inhertance\n",
    "# example-1\n",
    "class Phone:\n",
    "    def __init__(self,price,brand,camera):\n",
    "        print(\"inside phone constructor\")\n",
    "        self.price=price\n",
    "        self.brand=brand\n",
    "        self.camera=camera\n",
    "class SmartPhone(Phone):\n",
    "    pass\n",
    "s=SmartPhone(2000,\"apple\",13)\n",
    "#if the child class does not have constructor and when we make object of the child class then the \n",
    "# constructor of the parent class will be called."
   ]
  },
  {
   "cell_type": "code",
   "execution_count": 9,
   "id": "2130fc8b-a0ae-4507-87f9-c1854d31544a",
   "metadata": {},
   "outputs": [
    {
     "name": "stdout",
     "output_type": "stream",
     "text": [
      "inside phone constructor\n"
     ]
    },
    {
     "ename": "AttributeError",
     "evalue": "'SmartPhone' object has no attribute '_SmartPhone__price'",
     "output_type": "error",
     "traceback": [
      "\u001b[1;31m---------------------------------------------------------------------------\u001b[0m",
      "\u001b[1;31mAttributeError\u001b[0m                            Traceback (most recent call last)",
      "Cell \u001b[1;32mIn[9], line 13\u001b[0m\n\u001b[0;32m     11\u001b[0m         \u001b[38;5;28mprint\u001b[39m(\u001b[38;5;28mself\u001b[39m\u001b[38;5;241m.\u001b[39mprice)\u001b[38;5;66;03m#cannot access the private member\u001b[39;00m\n\u001b[0;32m     12\u001b[0m s\u001b[38;5;241m=\u001b[39mSmartPhone(\u001b[38;5;241m2000\u001b[39m,\u001b[38;5;124m\"\u001b[39m\u001b[38;5;124mapple\u001b[39m\u001b[38;5;124m\"\u001b[39m,\u001b[38;5;241m13\u001b[39m)\n\u001b[1;32m---> 13\u001b[0m s\u001b[38;5;241m.\u001b[39mcheck()\n",
      "Cell \u001b[1;32mIn[9], line 10\u001b[0m, in \u001b[0;36mSmartPhone.check\u001b[1;34m(self)\u001b[0m\n\u001b[0;32m      9\u001b[0m \u001b[38;5;28;01mdef\u001b[39;00m \u001b[38;5;21mcheck\u001b[39m(\u001b[38;5;28mself\u001b[39m):\n\u001b[1;32m---> 10\u001b[0m     \u001b[38;5;28mprint\u001b[39m(\u001b[38;5;28mself\u001b[39m\u001b[38;5;241m.\u001b[39m__price)\u001b[38;5;66;03m#cannot acess the private member\u001b[39;00m\n\u001b[0;32m     11\u001b[0m     \u001b[38;5;28mprint\u001b[39m(\u001b[38;5;28mself\u001b[39m\u001b[38;5;241m.\u001b[39mprice)\n",
      "\u001b[1;31mAttributeError\u001b[0m: 'SmartPhone' object has no attribute '_SmartPhone__price'"
     ]
    }
   ],
   "source": [
    "# example 2\n",
    "class Phone:\n",
    "    def __init__(self,price,brand,camera):\n",
    "        print(\"inside phone constructor\")\n",
    "        self.__price=price#private member\n",
    "        self.brand=brand\n",
    "        self.camera=camera\n",
    "class SmartPhone(Phone):\n",
    "    def check(self):\n",
    "        print(self.__price)#cannot acess the private member\n",
    "        print(self.price)#cannot access the private member\n",
    "s=SmartPhone(2000,\"apple\",13)\n",
    "s.check()\n",
    "#so the learning is child class connot inherit the private or hidden members of parent class          "
   ]
  },
  {
   "cell_type": "code",
   "execution_count": 11,
   "id": "6ad35c06-a6d6-44ae-9561-fc4d375c58b3",
   "metadata": {},
   "outputs": [
    {
     "name": "stdout",
     "output_type": "stream",
     "text": [
      "inside phone constructor\n",
      "buying a smartphone\n"
     ]
    }
   ],
   "source": [
    "#example 3(Polymorphism)\n",
    "class Phone:\n",
    "    def __init__(self,price,brand,camera):\n",
    "        print(\"inside phone constructor\")\n",
    "        self.__price=price#private member\n",
    "        self.brand=brand\n",
    "        self.camera=camera\n",
    "\n",
    "    def buy(self):\n",
    "        print(\"buying a phone\")\n",
    "    def return_phone(self):\n",
    "        print(\"returning a phone\")\n",
    "class FeaturePhone(Phone):\n",
    "    pass\n",
    "class SmartPhone(Phone):\n",
    "    def buy(self):\n",
    "        print(\"buying a smartphone\")\n",
    "s=SmartPhone(20000,\"Apple\",13)\n",
    "s.buy()\n",
    "#method overiding ->polymorphism\n",
    "# child class method will overide the parent class method "
   ]
  },
  {
   "cell_type": "code",
   "execution_count": 6,
   "id": "b79c9b32-1a34-4836-b711-728c8623919b",
   "metadata": {},
   "outputs": [
    {
     "ename": "AttributeError",
     "evalue": "'Child' object has no attribute '_Parent__num'",
     "output_type": "error",
     "traceback": [
      "\u001b[1;31m---------------------------------------------------------------------------\u001b[0m",
      "\u001b[1;31mAttributeError\u001b[0m                            Traceback (most recent call last)",
      "Cell \u001b[1;32mIn[6], line 13\u001b[0m\n\u001b[0;32m     11\u001b[0m         \u001b[38;5;28;01mreturn\u001b[39;00m \u001b[38;5;28mself\u001b[39m\u001b[38;5;241m.\u001b[39m__val\n\u001b[0;32m     12\u001b[0m son\u001b[38;5;241m=\u001b[39mChild(\u001b[38;5;241m100\u001b[39m,\u001b[38;5;241m10\u001b[39m)\n\u001b[1;32m---> 13\u001b[0m \u001b[38;5;28mprint\u001b[39m(\u001b[38;5;124m\"\u001b[39m\u001b[38;5;124mparent num:\u001b[39m\u001b[38;5;124m\"\u001b[39m,\u001b[43mson\u001b[49m\u001b[38;5;241;43m.\u001b[39;49m\u001b[43mget_num\u001b[49m\u001b[43m(\u001b[49m\u001b[43m)\u001b[49m)\n",
      "Cell \u001b[1;32mIn[6], line 6\u001b[0m, in \u001b[0;36mParent.get_num\u001b[1;34m(self)\u001b[0m\n\u001b[0;32m      5\u001b[0m \u001b[38;5;28;01mdef\u001b[39;00m \u001b[38;5;21mget_num\u001b[39m(\u001b[38;5;28mself\u001b[39m):\n\u001b[1;32m----> 6\u001b[0m     \u001b[38;5;28;01mreturn\u001b[39;00m \u001b[38;5;28;43mself\u001b[39;49m\u001b[38;5;241;43m.\u001b[39;49m\u001b[43m__num\u001b[49m\n",
      "\u001b[1;31mAttributeError\u001b[0m: 'Child' object has no attribute '_Parent__num'"
     ]
    }
   ],
   "source": [
    "# example 4\n",
    "class Parent:\n",
    "    def __init__(self,num):\n",
    "        self.__num=num\n",
    "    def get_num(self):\n",
    "        return self.__num\n",
    "class Child(Parent):\n",
    "    def __init__(self,val,num):\n",
    "        self.__val=val\n",
    "    def get_val(self):\n",
    "        return self.__val\n",
    "son=Child(100,10)\n",
    "print(\"parent num:\",son.get_num())\n",
    "# parent constructor is not called so error when child class have its constructor then parent contructor not called directly\n",
    "\n",
    "    "
   ]
  },
  {
   "cell_type": "code",
   "execution_count": 8,
   "id": "71ebaa3e-4e2b-4447-aa11-222341238501",
   "metadata": {},
   "outputs": [
    {
     "name": "stdout",
     "output_type": "stream",
     "text": [
      "class A  100\n"
     ]
    }
   ],
   "source": [
    "# example 5\n",
    "class A:\n",
    "    def __init__(self):\n",
    "        self.var1=100\n",
    "    def display1(self,var1):\n",
    "        print(\"class A \",self.var1)\n",
    "class B(A):\n",
    "    def display2(self,var1):\n",
    "        print(\"class B \",self.var1)\n",
    "obj=B()\n",
    "obj.display1(200)\n",
    "# The reason for this output is that even though you're passing 200 as an argument to display1, the method itself \n",
    "# doesn't use that argument. It prints the value of self.var1, which is 100 because var1 in display1 is not being \n",
    "# used to update the self.var1 attribute."
   ]
  },
  {
   "cell_type": "code",
   "execution_count": 12,
   "id": "f7ba3d98-c89a-44a3-a48e-5ecf1a0e796d",
   "metadata": {},
   "outputs": [
    {
     "name": "stdout",
     "output_type": "stream",
     "text": [
      "inside  constructor\n",
      "buying a smartphone(CHILD)\n",
      "buying a smartphone(PARENT)\n",
      "inside  constructor\n",
      "inside smartphone cunstructor\n",
      "andriod\n",
      "samsung\n"
     ]
    }
   ],
   "source": [
    "# SUPER KEYWORD \n",
    "#it should be the first statement in the child contructor when calling parent constructor \n",
    "class Phone:\n",
    "    def __init__(self,price,brand,camera):\n",
    "        print(\"inside  constructor\")\n",
    "        self.__price=price\n",
    "        self.brand=brand\n",
    "        self.camera=camera\n",
    "    def buy(self):\n",
    "        print(\"buying a smartphone(PARENT)\")\n",
    "\n",
    "class SmartPhone(Phone):\n",
    "    def buy(self):\n",
    "        print(\"buying a smartphone(CHILD)\")\n",
    "        super().buy()#Parent buy is invoked\n",
    "s=SmartPhone(20000,\"Apple\",13)\n",
    "s.buy()\n",
    "# BY super we can acess parent method and parent constructor only not able to acess the parents attribute\n",
    "# example no.6\n",
    "class Phone:\n",
    "    def __init__(self,price,brand,camera):\n",
    "        print(\"inside  constructor\")\n",
    "        self.__price=price\n",
    "        self.brand=brand\n",
    "        self.camera=camera\n",
    "class SmartPhone(Phone):\n",
    "    def __init__(self,price,brand,camera,os,ram):\n",
    "        super().__init__(price,brand,camera)\n",
    "        self.os=os\n",
    "        self.ram=ram\n",
    "        print(\"inside smartphone constructor\")\n",
    "s=SmartPhone(2000,\"samsung\",12,\"android\",2)\n",
    "print(s.os)\n",
    "print(s.brand)"
   ]
  },
  {
   "cell_type": "code",
   "execution_count": 18,
   "id": "d093a103-13c2-4822-9fb3-2e16fc173a2f",
   "metadata": {},
   "outputs": [
    {
     "name": "stdout",
     "output_type": "stream",
     "text": [
      "100\n"
     ]
    }
   ],
   "source": [
    "#example\n",
    "class A:\n",
    "    def __init__(self):\n",
    "        self.num1=100\n",
    "    def see(self):\n",
    "        print(self.num1)\n",
    "class B(A):\n",
    "    def __init__(self,num2):\n",
    "        # super().__init__() #uncomment to make it right\n",
    "        self.num2=num2\n",
    "    def B_see(self):\n",
    "        print(self.num2)\n",
    "b=B(12)\n",
    "b.see()\n",
    "#so contructor of parent class not automatically called when object of the child class is made it is to be called by the super method"
   ]
  },
  {
   "cell_type": "code",
   "execution_count": 11,
   "id": "3f5ab1c6-bab8-4e39-8d74-53e1407fb4eb",
   "metadata": {},
   "outputs": [
    {
     "name": "stdout",
     "output_type": "stream",
     "text": [
      "inside phone constructor\n",
      "buying a phone\n",
      "customer review\n"
     ]
    }
   ],
   "source": [
    "# types of inheritance => 1)single level 2) multilevel 3) hierarchichal  4)multiple 5)hybrid python supports all types\n",
    "# example of multiple inheritance \n",
    "class Phone:\n",
    "    def __init__(self,price ,brand ,camera):\n",
    "        print(\"inside phone constructor\")\n",
    "        self.__price=price \n",
    "        self.brand=brand \n",
    "        self.camera=camera\n",
    "    def buy(self):\n",
    "        print(\"buying a phone\")\n",
    "class Product:\n",
    "    def review(self):\n",
    "        print(\"customer review\")\n",
    "class SmartPhone(Phone,Product):\n",
    "    pass \n",
    "s=SmartPhone(20000,'Apple',12)\n",
    "s.buy()\n",
    "s.review()\n",
    "#constructor of phone will be called because written first while inheriting if phone does not have constructor then constructor of product will be called \n"
   ]
  },
  {
   "cell_type": "code",
   "execution_count": 12,
   "id": "58956cac",
   "metadata": {},
   "outputs": [
    {
     "name": "stdout",
     "output_type": "stream",
     "text": [
      "inside phone constructor\n",
      "buying a phone\n",
      "customer review\n"
     ]
    }
   ],
   "source": [
    "class Phone:\n",
    "    def __init__(self, price, brand, camera):\n",
    "        print(\"inside phone constructor\")\n",
    "        self.__price = price \n",
    "        self.brand = brand \n",
    "        self.camera = camera\n",
    "\n",
    "    def buy(self):\n",
    "        print(\"buying a phone\")\n",
    "class Product:\n",
    "    def __init__(self):\n",
    "        print(\"inside product constructor\")\n",
    "\n",
    "    def review(self):\n",
    "        print(\"customer review\")\n",
    "class SmartPhone(Phone, Product):\n",
    "    def __init__(self, price, brand, camera):\n",
    "        super().__init__(price, brand, camera)  # Calls the constructor of the first parent class in the MRO\n",
    "        super(Product, self).__init__()  # Calls the constructor of the second parent class in the MRO\n",
    "# In the SmartPhone class, the __init__ method is defined to call the constructors of both Phone and Product using super().\n",
    "# super().__init__(price, brand, camera) calls the constructor of the first parent class in the Method Resolution Order (MRO), which is Phone.\n",
    "# super(Product, self).__init__() calls the constructor of the second parent class in the MRO, which is Product.\n",
    "# This way, both parent class constructors are called explicitly, ensuring proper initialization of the SmartPhone object.\n",
    "s = SmartPhone(20000, 'Apple', 12)\n",
    "s.buy()\n",
    "s.review()\n"
   ]
  },
  {
   "cell_type": "code",
   "execution_count": 23,
   "id": "35e881db-48ac-4162-a60f-6e5a8d6d2768",
   "metadata": {},
   "outputs": [
    {
     "name": "stdout",
     "output_type": "stream",
     "text": [
      "inside phone constructor\n",
      "Product buy method\n"
     ]
    }
   ],
   "source": [
    "# conflicting situation in this type of inheritance \n",
    "class Phone:\n",
    "    def __init__(self,price ,brand ,camera):\n",
    "        print(\"inside phone constructor\")\n",
    "        self.__price=price \n",
    "        self.brand=brand \n",
    "        self.camera=camera\n",
    "    def buy(self):\n",
    "        print(\"Phone buy method\")\n",
    "class Product:\n",
    "    def buy(self):\n",
    "        print(\"Product buy method\")\n",
    "class SmartPhone(Product,Phone ):\n",
    "    pass \n",
    "s=SmartPhone(20000,'Apple',12)\n",
    "s.buy()\n",
    "#product buy method will be called because it is written first and this is called method resolution order\n",
    "# method resolution order=>the order in which class are inherited in that order only methods will be called   "
   ]
  },
  {
   "cell_type": "code",
   "execution_count": 13,
   "id": "27063d31-94cf-42f1-a8c8-b51c261d2228",
   "metadata": {},
   "outputs": [
    {
     "ename": "RecursionError",
     "evalue": "maximum recursion depth exceeded",
     "output_type": "error",
     "traceback": [
      "\u001b[1;31m---------------------------------------------------------------------------\u001b[0m",
      "\u001b[1;31mRecursionError\u001b[0m                            Traceback (most recent call last)",
      "Cell \u001b[1;32mIn[13], line 14\u001b[0m\n\u001b[0;32m     12\u001b[0m         \u001b[38;5;28;01mreturn\u001b[39;00m val\n\u001b[0;32m     13\u001b[0m obj\u001b[38;5;241m=\u001b[39mC()\n\u001b[1;32m---> 14\u001b[0m \u001b[38;5;28mprint\u001b[39m(obj\u001b[38;5;241m.\u001b[39mm1())\n",
      "Cell \u001b[1;32mIn[13], line 11\u001b[0m, in \u001b[0;36mC.m1\u001b[1;34m(self)\u001b[0m\n\u001b[0;32m     10\u001b[0m \u001b[38;5;28;01mdef\u001b[39;00m \u001b[38;5;21mm1\u001b[39m(\u001b[38;5;28mself\u001b[39m):\n\u001b[1;32m---> 11\u001b[0m     val\u001b[38;5;241m=\u001b[39m\u001b[38;5;28mself\u001b[39m\u001b[38;5;241m.\u001b[39mm1()\u001b[38;5;241m+\u001b[39m\u001b[38;5;241m20\u001b[39m\n\u001b[0;32m     12\u001b[0m     \u001b[38;5;28;01mreturn\u001b[39;00m val\n",
      "Cell \u001b[1;32mIn[13], line 11\u001b[0m, in \u001b[0;36mC.m1\u001b[1;34m(self)\u001b[0m\n\u001b[0;32m     10\u001b[0m \u001b[38;5;28;01mdef\u001b[39;00m \u001b[38;5;21mm1\u001b[39m(\u001b[38;5;28mself\u001b[39m):\n\u001b[1;32m---> 11\u001b[0m     val\u001b[38;5;241m=\u001b[39m\u001b[38;5;28mself\u001b[39m\u001b[38;5;241m.\u001b[39mm1()\u001b[38;5;241m+\u001b[39m\u001b[38;5;241m20\u001b[39m\n\u001b[0;32m     12\u001b[0m     \u001b[38;5;28;01mreturn\u001b[39;00m val\n",
      "    \u001b[1;31m[... skipping similar frames: C.m1 at line 11 (2971 times)]\u001b[0m\n",
      "Cell \u001b[1;32mIn[13], line 11\u001b[0m, in \u001b[0;36mC.m1\u001b[1;34m(self)\u001b[0m\n\u001b[0;32m     10\u001b[0m \u001b[38;5;28;01mdef\u001b[39;00m \u001b[38;5;21mm1\u001b[39m(\u001b[38;5;28mself\u001b[39m):\n\u001b[1;32m---> 11\u001b[0m     val\u001b[38;5;241m=\u001b[39m\u001b[38;5;28mself\u001b[39m\u001b[38;5;241m.\u001b[39mm1()\u001b[38;5;241m+\u001b[39m\u001b[38;5;241m20\u001b[39m\n\u001b[0;32m     12\u001b[0m     \u001b[38;5;28;01mreturn\u001b[39;00m val\n",
      "\u001b[1;31mRecursionError\u001b[0m: maximum recursion depth exceeded"
     ]
    }
   ],
   "source": [
    "#example \n",
    "class A:\n",
    "    def m1(self):\n",
    "        return 20\n",
    "class B(A):\n",
    "    def m1(self):\n",
    "        val=super().m1()+30\n",
    "        return val\n",
    "class C(B):\n",
    "    def m1(self):\n",
    "        val=self.m1()+20\n",
    "        return val\n",
    "obj=C()\n",
    "print(obj.m1())\n",
    "# class C method will be called again and again because that object is callled by the self and self is object of the class C."
   ]
  },
  {
   "cell_type": "code",
   "execution_count": 9,
   "id": "53d27c60-3c09-41c3-a508-751bc407d31f",
   "metadata": {},
   "outputs": [
    {
     "data": {
      "text/plain": [
       "20"
      ]
     },
     "execution_count": 9,
     "metadata": {},
     "output_type": "execute_result"
    }
   ],
   "source": [
    "# polymorphism=>method overidding , method overlaoding , operator overloading\n",
    "class Geometry:\n",
    "    def area(self,radius):\n",
    "        return 3.14*radius*radius\n",
    "    def area(self,l,b):\n",
    "        return l*b\n",
    "obj=Geometry()\n",
    "obj.area(4,5)#in python method overloading not works but we can make it work by sometechnique \n",
    "# this is running because area is overidded by the two argument method but this will give error \n",
    "#obj.area(5)\n"
   ]
  },
  {
   "cell_type": "code",
   "execution_count": 13,
   "id": "911c2bee-2cdd-4729-aa05-1841808844f2",
   "metadata": {},
   "outputs": [
    {
     "name": "stdout",
     "output_type": "stream",
     "text": [
      "rectangle 20\n",
      "Circle 113.03999999999999\n"
     ]
    }
   ],
   "source": [
    "# methodoverloading=>method works differently if given diffent type of inputs so this is method overloading by some technique\n",
    "# but in python there is no concept of method overloading\n",
    "class Geometry:\n",
    "    def area(self,a,b=0):\n",
    "        if b==0:\n",
    "            print(\"Circle\",3.14*a*a)\n",
    "        else:\n",
    "            print(\"rectangle\",a*b)\n",
    "obj=Geometry()\n",
    "obj.area(4,5)\n",
    "obj.area(6)"
   ]
  }
 ],
 "metadata": {
  "kernelspec": {
   "display_name": "Python 3 (ipykernel)",
   "language": "python",
   "name": "python3"
  },
  "language_info": {
   "codemirror_mode": {
    "name": "ipython",
    "version": 3
   },
   "file_extension": ".py",
   "mimetype": "text/x-python",
   "name": "python",
   "nbconvert_exporter": "python",
   "pygments_lexer": "ipython3",
   "version": "3.11.7"
  }
 },
 "nbformat": 4,
 "nbformat_minor": 5
}
